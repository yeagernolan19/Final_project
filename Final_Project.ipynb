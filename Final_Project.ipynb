{
  "nbformat": 4,
  "nbformat_minor": 0,
  "metadata": {
    "colab": {
      "provenance": [],
      "include_colab_link": true
    },
    "kernelspec": {
      "name": "python3",
      "display_name": "Python 3"
    },
    "language_info": {
      "name": "python"
    }
  },
  "cells": [
    {
      "cell_type": "markdown",
      "metadata": {
        "id": "view-in-github",
        "colab_type": "text"
      },
      "source": [
        "<a href=\"https://colab.research.google.com/github/yeagernolan19/Final_project/blob/main/Final_Project.ipynb\" target=\"_parent\"><img src=\"https://colab.research.google.com/assets/colab-badge.svg\" alt=\"Open In Colab\"/></a>"
      ]
    },
    {
      "cell_type": "code",
      "execution_count": null,
      "metadata": {
        "id": "ZP679LIT6Fky"
      },
      "outputs": [],
      "source": [
        "import pandas as pd\n",
        "import numpy as np\n",
        "from sklearn.model_selection import train_test_split\n",
        "from sklearn.metrics import accuracy_score\n",
        "from sklearn.preprocessing import LabelEncoder, StandardScaler\n",
        "from sklearn.ensemble import RandomForestClassifier"
      ]
    },
    {
      "cell_type": "code",
      "source": [],
      "metadata": {
        "id": "mlzd8X2Y7vMb"
      },
      "execution_count": null,
      "outputs": []
    },
    {
      "cell_type": "code",
      "source": [
        "dtypes = {\n",
        "\n",
        "    # numeric columns containing corrupted values\n",
        "    'Age':'object',\n",
        "    'Num_of_Loan':'object',\n",
        "    'Num_of_Delayed_Payment':'object',\n",
        "    'Annual_Income':'object',\n",
        "    'Outstanding_Debt':'object',\n",
        "    'Amount_invested_monthly':'object',\n",
        "    'Monthly_Balance':'object',\n",
        "\n",
        "    # numeric columns with descrete values\n",
        "    'Num_Bank_Accounts':pd.Int16Dtype(),\n",
        "    'Num_Credit_Card':pd.Int16Dtype(),\n",
        "    'Interest_Rate':pd.Int16Dtype(),\n",
        "\n",
        "    # numeric columns with continues values\n",
        "    'Delay_from_due_date':pd.Float32Dtype(),\n",
        "    'Monthly_Inhand_Salary':pd.Float32Dtype(),\n",
        "    'Changed_Credit_Limit':pd.Float32Dtype(),\n",
        "    'Num_Credit_Inquiries':pd.Float32Dtype(),\n",
        "    'Credit_Utilization_Ratio':pd.Float32Dtype(),\n",
        "    'Total_EMI_per_month':pd.Float32Dtype(),\n",
        "\n",
        "    # categorical columns\n",
        "    'ID':'category',\n",
        "    'Customer_ID':'category',\n",
        "    'Month':'category',\n",
        "    'Name':'category',\n",
        "    'Occupation':'category',\n",
        "    'Payment_of_Min_Amount':'category',\n",
        "\n",
        "    # columns that need further processing\n",
        "    'Payment_Behaviour':'string',\n",
        "    'Credit_History_Age':'string',\n",
        "    'SSN':'string',\n",
        "    'Type_of_Loan':'string'\n",
        "}\n",
        "\n",
        "missing_values = ['_______', '_', '!@9#%8', '#F%$D@*&8']\n",
        "\n"
      ],
      "metadata": {
        "id": "vpNxCgSw6ODX"
      },
      "execution_count": null,
      "outputs": []
    },
    {
      "cell_type": "code",
      "source": [
        "df_train=pd.read_csv('Resources/train.csv',  na_values = missing_values, dtype = dtypes)\n",
        "df_train"
      ],
      "metadata": {
        "id": "Du-unHVB6QbU"
      },
      "execution_count": null,
      "outputs": []
    },
    {
      "cell_type": "code",
      "source": [
        "col_names=df_train.columns\n",
        "col_names"
      ],
      "metadata": {
        "id": "mr2TCvpo6R8R"
      },
      "execution_count": null,
      "outputs": []
    },
    {
      "cell_type": "code",
      "source": [
        "columns_to_drop = [\"Name\", \"Age\", \"Month\", \"Occupation\",'ID', 'SSN','Customer_ID']\n",
        "df_train.drop(columns=columns_to_drop, inplace=True)\n",
        "df_train"
      ],
      "metadata": {
        "id": "2pB9PF4i6UuN"
      },
      "execution_count": null,
      "outputs": []
    },
    {
      "cell_type": "code",
      "source": [
        "def odd_value(col):\n",
        "    df_train[col]=df_train[col].str.strip('_')\n",
        "    df_train[col]=df_train[col].replace(['!@9#%8','', 'nan'],np.NaN)\n",
        "cols=list(df_train.select_dtypes(include='O').columns)\n",
        "list(map(odd_value,cols))"
      ],
      "metadata": {
        "id": "KVGdUpTI6WgB"
      },
      "execution_count": null,
      "outputs": []
    },
    {
      "cell_type": "code",
      "source": [
        "def change_dtype(col,dtype):\n",
        "    df_train[col]=df_train[col].astype(dtype)\n",
        "\n",
        "required_features=['Annual_Income','Num_of_Loan','Delay_from_due_date','Num_of_Delayed_Payment','Changed_Credit_Limit','Outstanding_Debt','Amount_invested_monthly','Monthly_Balance']\n",
        "for col in required_features:\n",
        "    change_dtype(col,'float64')\n",
        "\n",
        "df_train.info()"
      ],
      "metadata": {
        "id": "YCTIbtEd6YDE"
      },
      "execution_count": null,
      "outputs": []
    },
    {
      "cell_type": "code",
      "source": [
        "print(df_train.columns)"
      ],
      "metadata": {
        "id": "sdFqtes_6Z08"
      },
      "execution_count": null,
      "outputs": []
    },
    {
      "cell_type": "code",
      "source": [
        "encoding_variables=['Credit_Mix','Payment_of_Min_Amount','Payment_Behaviour']\n",
        "def frequency_encoding(df_train, column):\n",
        "    freq_map = df_train[column].value_counts(normalize=True).to_dict()\n",
        "    df_train[column + '_freq_enc'] = df_train[column].map(freq_map)\n",
        "for column in encoding_variables:\n",
        "    frequency_encoding(df_train, column)\n",
        "df_train['Credit_Mix']=df_train['Credit_Mix_freq_enc']\n",
        "df_train['Payment_of_Min_Amount']=df_train['Payment_of_Min_Amount_freq_enc']\n",
        "df_train['Payment_Behaviour']=df_train['Payment_Behaviour_freq_enc']\n",
        "df_train.drop(columns=['Credit_Mix_freq_enc','Payment_of_Min_Amount_freq_enc','Payment_Behaviour_freq_enc'],inplace=True)\n",
        "df_train"
      ],
      "metadata": {
        "id": "pnSCQXI66cC1"
      },
      "execution_count": null,
      "outputs": []
    },
    {
      "cell_type": "code",
      "source": [
        "if 'Type_of_Loan' in df_train.columns:\n",
        "    df_train.drop(columns=['Type_of_Loan'], inplace=True)\n",
        "else:\n",
        "    print(\"Column 'Type_of_Loan' not found.\")"
      ],
      "metadata": {
        "id": "sDsGzYgv6d-P"
      },
      "execution_count": null,
      "outputs": []
    },
    {
      "cell_type": "code",
      "source": [
        "df_train.dropna(inplace=True)\n",
        "df_train.drop(columns=['Credit_History_Age'], inplace=True)"
      ],
      "metadata": {
        "id": "2q-nHn8A6fPB"
      },
      "execution_count": null,
      "outputs": []
    },
    {
      "cell_type": "code",
      "source": [
        "X = df_train.drop(columns=['Credit_Score'])\n",
        "y = df_train['Credit_Score']\n",
        "X_train, X_test, y_train, y_test = train_test_split(X, y, test_size=0.2, random_state=42)\n",
        "scaler = StandardScaler()\n",
        "X_train_scaled = scaler.fit_transform(X_train)\n",
        "X_test_scaled = scaler.transform(X_test)\n",
        "model = RandomForestClassifier(random_state=42)\n",
        "model.fit(X_train_scaled, y_train)\n",
        "y_pred = model.predict(X_test_scaled)\n",
        "accuracy = accuracy_score(y_test, y_pred)\n",
        "print(\"Accuracy:\", accuracy)"
      ],
      "metadata": {
        "id": "C6yCbh1D6gyZ"
      },
      "execution_count": null,
      "outputs": []
    },
    {
      "cell_type": "code",
      "source": [
        "df_test=pd.read_csv('Resources/test.csv',  na_values = missing_values, dtype = dtypes)\n",
        "df_test"
      ],
      "metadata": {
        "id": "-E4QA5Tv6h5a"
      },
      "execution_count": null,
      "outputs": []
    },
    {
      "cell_type": "code",
      "source": [
        "columns_to_drop = [\"Name\", \"Age\", \"Month\", \"Occupation\",'ID', 'SSN','Customer_ID']\n",
        "df_test.drop(columns=columns_to_drop, inplace=True)\n",
        "df_test"
      ],
      "metadata": {
        "id": "YB-okEwM6jkL"
      },
      "execution_count": null,
      "outputs": []
    },
    {
      "cell_type": "code",
      "source": [
        "def odd_value(col):\n",
        "    df_test[col]=df_test[col].str.strip('_')\n",
        "    df_test[col]=df_test[col].replace(['!@9#%8','', 'nan'],np.NaN)\n",
        "cols=list(df_test.select_dtypes(include='O').columns)\n",
        "list(map(odd_value,cols))"
      ],
      "metadata": {
        "id": "fwe4eH3D6lrF"
      },
      "execution_count": null,
      "outputs": []
    },
    {
      "cell_type": "code",
      "source": [
        "def change_dtype(col,dtype):\n",
        "    df_test[col]=df_train[col].astype(dtype)\n",
        "\n",
        "required_features=['Annual_Income','Num_of_Loan','Delay_from_due_date','Num_of_Delayed_Payment','Changed_Credit_Limit','Outstanding_Debt','Amount_invested_monthly','Monthly_Balance']\n",
        "for col in required_features:\n",
        "    change_dtype(col,'float64')\n",
        "\n",
        "df_test.info()"
      ],
      "metadata": {
        "id": "ARCXPLZk6mjG"
      },
      "execution_count": null,
      "outputs": []
    },
    {
      "cell_type": "code",
      "source": [
        "df_test.dropna(inplace=True)\n",
        "df_test.drop(columns=['Credit_History_Age'], inplace=True)\n",
        "df_test"
      ],
      "metadata": {
        "id": "sUWiCsg56o7F"
      },
      "execution_count": null,
      "outputs": []
    },
    {
      "cell_type": "code",
      "source": [
        "encoding_variables=['Credit_Mix','Payment_of_Min_Amount','Payment_Behaviour']\n",
        "def frequency_encoding(df_test, column):\n",
        "    freq_map = df_test[column].value_counts(normalize=True).to_dict()\n",
        "    df_test[column + '_freq_enc'] = df_test[column].map(freq_map)\n",
        "for column in encoding_variables:\n",
        "    frequency_encoding(df_test, column)\n",
        "df_test['Credit_Mix']=df_test['Credit_Mix_freq_enc']\n",
        "df_test['Payment_of_Min_Amount']=df_test['Payment_of_Min_Amount_freq_enc']\n",
        "df_test['Payment_Behaviour']=df_test['Payment_Behaviour_freq_enc']\n",
        "df_test.drop(columns=['Credit_Mix_freq_enc','Payment_of_Min_Amount_freq_enc','Payment_Behaviour_freq_enc'],inplace=True)\n",
        "df_test"
      ],
      "metadata": {
        "id": "UWC7qVbl6pA3"
      },
      "execution_count": null,
      "outputs": []
    },
    {
      "cell_type": "code",
      "source": [
        "print(df_test.columns)"
      ],
      "metadata": {
        "id": "ZH_vEVp96prC"
      },
      "execution_count": null,
      "outputs": []
    },
    {
      "cell_type": "code",
      "source": [
        "df_test"
      ],
      "metadata": {
        "id": "yTkAZ1N-62f7"
      },
      "execution_count": null,
      "outputs": []
    },
    {
      "cell_type": "code",
      "source": [
        "if 'Type_of_Loan' in df_test.columns:\n",
        "    df_test.drop(columns=['Type_of_Loan'], inplace=True)"
      ],
      "metadata": {
        "id": "kfoHSccf64t4"
      },
      "execution_count": null,
      "outputs": []
    },
    {
      "cell_type": "code",
      "source": [
        "df_test['Credit_Score'] = 0\n",
        "df_test"
      ],
      "metadata": {
        "id": "Yp5mP72U69Wr"
      },
      "execution_count": null,
      "outputs": []
    },
    {
      "cell_type": "code",
      "source": [
        "X_test_scaled = scaler.transform(X_test)\n",
        "predicted_scores = model.predict(X_test_scaled)\n",
        "df_test_copy = df_test.copy().reset_index(drop=True)\n",
        "if len(predicted_scores) == len(df_test_copy):\n",
        "    df_test_copy['Credit_Score'] = pd.to_numeric(predicted_scores, errors='coerce')\n",
        "    df_test_copy = df_test_copy.dropna(subset=['Credit_Score'])\n",
        "    percentile_25 = df_test_copy['Credit_Score'].quantile(0.25)\n",
        "    percentile_75 = df_test_copy['Credit_Score'].quantile(0.75)\n",
        "    threshold_poor = percentile_25\n",
        "    threshold_good = percentile_75\n",
        "\n",
        "    def label_category(score):\n",
        "        if score < threshold_poor:\n",
        "            return 'Poor'\n",
        "        elif threshold_poor <= score < threshold_good:\n",
        "            return 'Standard'\n",
        "        else:\n",
        "            return 'Good'\n",
        "    df_test_copy['Credit_Category'] = df_test_copy['Credit_Score'].apply(label_category)\n",
        "else:\n",
        "    print(\"Length of 'predicted_scores' does not match the length of 'df_test_copy'.\")"
      ],
      "metadata": {
        "id": "CrAmDEXJ693J"
      },
      "execution_count": null,
      "outputs": []
    },
    {
      "cell_type": "code",
      "source": [
        "print(\"X_test_scaled shape:\",X_test_scaled.shape)\n",
        "print(\"predicted_scores shape:\", predicted_scores.shape)"
      ],
      "metadata": {
        "id": "zlCKW6_Y6-bq"
      },
      "execution_count": null,
      "outputs": []
    },
    {
      "cell_type": "code",
      "source": [
        "print(df_test_copy.head())"
      ],
      "metadata": {
        "id": "vk33_6Kg6-lJ"
      },
      "execution_count": null,
      "outputs": []
    },
    {
      "cell_type": "code",
      "source": [
        "X_test_scaled = scaler.transform(X_test)\n",
        "predicted_scores = model.predict(X_test_scaled)\n",
        "df_test_copy = df_test.copy().reset_index(drop=True)\n",
        "if len(predicted_scores) == len(df_test_copy):\n",
        "    predicted_scores = predicted_scores.astype(int)\n",
        "    df_test_copy['Credit_Score'] = predicted_scores\n",
        "    df_test_copy = df_test_copy.dropna(subset=['Credit_Score'])\n",
        "    percentile_25 = df_test_copy['Credit_Score'].quantile(0.25)\n",
        "    percentile_75 = df_test_copy['Credit_Score'].quantile(0.75)\n",
        "    threshold_poor = percentile_25\n",
        "    threshold_good = percentile_75\n",
        "    def label_category(score):\n",
        "        if score < threshold_poor:\n",
        "            return 'Poor'\n",
        "        elif threshold_poor <= score < threshold_good:\n",
        "            return 'Standard'\n",
        "        else:\n",
        "            return 'Good'\n",
        "    df_test_copy['Credit_Category'] = df_test_copy['Credit_Score'].apply(label_category)\n",
        "df_test_copy\n"
      ],
      "metadata": {
        "id": "OnZlfpEM6-8Q"
      },
      "execution_count": null,
      "outputs": []
    }
  ]
}